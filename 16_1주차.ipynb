{
  "nbformat": 4,
  "nbformat_minor": 0,
  "metadata": {
    "colab": {
      "name": "16-1주차.ipynb",
      "provenance": [],
      "authorship_tag": "ABX9TyMhehrsc6d6SpYg0H8cWWkE",
      "include_colab_link": true
    },
    "kernelspec": {
      "name": "python3",
      "display_name": "Python 3"
    },
    "language_info": {
      "name": "python"
    }
  },
  "cells": [
    {
      "cell_type": "markdown",
      "metadata": {
        "id": "view-in-github",
        "colab_type": "text"
      },
      "source": [
        "<a href=\"https://colab.research.google.com/github/yujungha/Data_Analysis/blob/main/16_1%EC%A3%BC%EC%B0%A8.ipynb\" target=\"_parent\"><img src=\"https://colab.research.google.com/assets/colab-badge.svg\" alt=\"Open In Colab\"/></a>"
      ]
    },
    {
      "cell_type": "code",
      "metadata": {
        "id": "yzo4LN9CAnaH"
      },
      "source": [
        "import pandas as pd\n",
        "import numpy as np\n",
        "import matplotlib.pyplot as plt\n",
        "import re"
      ],
      "execution_count": 2,
      "outputs": []
    },
    {
      "cell_type": "code",
      "metadata": {
        "id": "sByje_RnA05M"
      },
      "source": [
        "def dateformat(y=0,m=0,d=0,h=0,mm=0,s=0):\n",
        "    return \"%d-%02d-%02d %02d:%02d:%02d\"%(y,m,d,h,mm,s)"
      ],
      "execution_count": 3,
      "outputs": []
    },
    {
      "cell_type": "code",
      "metadata": {
        "id": "zk8R0t8eA2SM"
      },
      "source": [
        "# txt인 경우 (iphone)\n",
        "f = open('Talk_2021.4.29 21_54-1.txt', mode='r', encoding='utf-8')\n",
        "\n",
        "file_name = f.readline()\n",
        "save_date_re = re.compile('저장한 날짜 : ([0-9]{4})\\. ([0-9]{1,2})\\. ([0-9]{1,2})\\. ([0-9]{2}):([0-9]{2})')\n",
        "m = save_date_re.match(f.readline())\n",
        "save_date = dateformat(int(m[1]), int(m[2]), int(m[3]), int(m[4]), int(m[5]))\n",
        "\n",
        "f.readline() # 공백 제거\n",
        "f.readline() # 공백 제거\n",
        "f.readline() # 공백 제거\n",
        "\n",
        "history = []\n",
        "histline = ''\n",
        "date = None\n",
        "\n",
        "date_re = re.compile('([0-9]{4})년 ([0-9]{1,2})월 ([0-9]{1,2})일 ((월|화|수|목|금|토|일)요일)')\n",
        "invite_re = re.compile('([0-9]{4})\\. ([0-9]{1,2})\\. ([0-9]{1,2})\\. ([0-9]{2}):([0-9]{2}): ((.+)님이 .+ 초대했습니다.)')\n",
        "exit_re = re.compile('([0-9]{4})\\. ([0-9]{1,2})\\. ([0-9]{1,2})\\. ([0-9]{2}):([0-9]{2}): ((.+)님이 나갔습니다.)')\n",
        "chat_re = re.compile('([0-9]{4})\\. ([0-9]{1,2})\\. ([0-9]{1,2})\\. ([0-9]{2}):([0-9]{2}), (.+) : (.+)')\n",
        "\n",
        "chat_temp = ''\n",
        "\n",
        "i=0\n",
        "while True:\n",
        "    line = f.readline()\n",
        "    if not line: \n",
        "        break\n",
        "    # print(line, end='')\n",
        "\n",
        "    # chat\n",
        "    m = chat_re.match(line)\n",
        "    if m:\n",
        "        date = dateformat(int(m[1]), int(m[2]), int(m[3]), int(m[4]), int(m[5]))\n",
        "        user = m[6]\n",
        "        content = m[7]\n",
        "        history.append([date, user, content])\n",
        "        continue\n",
        "    # date\n",
        "    m = date_re.match(line)\n",
        "    if m:\n",
        "        date = dateformat(int(m[1]), int(m[2]), int(m[3]))\n",
        "        # print('aaaaaaaaaaaa' ,history[-1][2])\n",
        "        continue\n",
        "    # invite\n",
        "    m = invite_re.match(line)\n",
        "    if m:\n",
        "        date = dateformat(int(m[1]), int(m[2]), int(m[3]), int(m[4]), int(m[5]))\n",
        "        user = m[7]\n",
        "        content = m[6]\n",
        "        history.append([date, user, content])\n",
        "        continue\n",
        "    # exit\n",
        "    m = exit_re.match(line)\n",
        "    if m:\n",
        "        date = dateformat(int(m[1]), int(m[2]), int(m[3]), int(m[4]), int(m[5]))\n",
        "        user = m[7]\n",
        "        content = m[6]\n",
        "        history.append([date, user, content])\n",
        "        continue\n",
        "    # \\n chat\n",
        "    history[-1][2] += line\n",
        "df = pd.DataFrame(history, columns=['Date', 'User', 'Message'])"
      ],
      "execution_count": 4,
      "outputs": []
    },
    {
      "cell_type": "code",
      "metadata": {
        "id": "kd7PKFfJA9-l"
      },
      "source": [
        "df"
      ],
      "execution_count": null,
      "outputs": []
    },
    {
      "cell_type": "code",
      "metadata": {
        "colab": {
          "base_uri": "https://localhost:8080/"
        },
        "id": "bOSsuo2QA_1m",
        "outputId": "d5f56319-1e0f-45c4-9caa-094d077bf92a"
      },
      "source": [
        "df.info()"
      ],
      "execution_count": 6,
      "outputs": [
        {
          "output_type": "stream",
          "text": [
            "<class 'pandas.core.frame.DataFrame'>\n",
            "RangeIndex: 4717 entries, 0 to 4716\n",
            "Data columns (total 3 columns):\n",
            " #   Column   Non-Null Count  Dtype \n",
            "---  ------   --------------  ----- \n",
            " 0   Date     4717 non-null   object\n",
            " 1   User     4717 non-null   object\n",
            " 2   Message  4717 non-null   object\n",
            "dtypes: object(3)\n",
            "memory usage: 110.7+ KB\n"
          ],
          "name": "stdout"
        }
      ]
    },
    {
      "cell_type": "code",
      "metadata": {
        "id": "9apoC4mxBBUE"
      },
      "source": [
        "a = df['Message'].values\n",
        "b = []\n",
        "for i in range(len(a) - 1):\n",
        "  b.append([a[i], a[i + 1]])\n",
        "b"
      ],
      "execution_count": null,
      "outputs": []
    },
    {
      "cell_type": "code",
      "metadata": {
        "colab": {
          "base_uri": "https://localhost:8080/"
        },
        "id": "h2Sz3ByVOroU",
        "outputId": "fa7ef26e-436b-491c-fc90-109de62616e3"
      },
      "source": [
        "len(a)"
      ],
      "execution_count": 8,
      "outputs": [
        {
          "output_type": "execute_result",
          "data": {
            "text/plain": [
              "4717"
            ]
          },
          "metadata": {
            "tags": []
          },
          "execution_count": 8
        }
      ]
    },
    {
      "cell_type": "code",
      "metadata": {
        "id": "eWML-u_KF7dT"
      },
      "source": [
        "a = np.array(df[['User', 'Message']].values)\n",
        "# a = [['19 김은하', '19 김은하님이 누리고라스님과 유정하님을 초대했습니다.'],\n",
        "#     ['19 김은하', '애들아'],\n",
        "#     ['19 김은하', '조이름생각해바']]\n",
        "i = 0\n",
        "while i != len(a)-1:\n",
        "  if a[i][0] == a[i+1][0]:\n",
        "    a[i][1] += ' '+a[i+1][1]\n",
        "    a = np.delete(a, i+1, 0)\n",
        "  else:\n",
        "    i += 1\n",
        "\n",
        "a = a.T[1]\n",
        "\n",
        "b = []\n",
        "for i in range(len(a) - 1):\n",
        "  b.append([a[i], a[i + 1]])\n",
        "b"
      ],
      "execution_count": null,
      "outputs": []
    },
    {
      "cell_type": "code",
      "metadata": {
        "id": "96WImLsFBHHt"
      },
      "source": [
        "import random\n",
        "\n",
        "while True:\n",
        "  Q = input(\"질문 : \")\n",
        "  l1 = []\n",
        "  l2 = []\n",
        "  l3 = []\n",
        "\n",
        "  for i in range(len(b)):\n",
        "    if Q == b[i][0]:\n",
        "      # print('[완벽일치]', b[i][0])\n",
        "      l1.append(b[i][1])\n",
        "    elif b[i][0].find(Q) != -1:\n",
        "      # print('[포함]',b[i][0])\n",
        "      l2.append(b[i][1])\n",
        "    # [포함-2] 채팅\n",
        "    else:\n",
        "      n = 0\n",
        "      for q in Q.split(' '):\n",
        "        if b[i][0].find(q) != -1:\n",
        "          n += 1\n",
        "      if n > 0:\n",
        "        # print('[포함-%d]'%n,b[i][0])\n",
        "        l3.append(b[i][1])\n",
        "\n",
        "  if len(l1) != 0:\n",
        "    print('답변 :',random.choice(l1))\n",
        "  elif len(l2) != 0:\n",
        "    print('답변 :',random.choice(l2))\n",
        "  elif len(l3) != 0:\n",
        "    print('답변 :',random.choice(l3))\n",
        "  else:\n",
        "    print('답변 : 맞아맞아')\n",
        "  print('\\n=================================================\\n')"
      ],
      "execution_count": null,
      "outputs": []
    }
  ]
}