{
  "nbformat": 4,
  "nbformat_minor": 0,
  "metadata": {
    "colab": {
      "name": "Kakao Log Analysis",
      "provenance": [],
      "authorship_tag": "ABX9TyPE2NpW7EM/KWcIbno+ShRF",
      "include_colab_link": true
    },
    "kernelspec": {
      "name": "python3",
      "display_name": "Python 3"
    },
    "language_info": {
      "name": "python"
    }
  },
  "cells": [
    {
      "cell_type": "markdown",
      "metadata": {
        "id": "view-in-github",
        "colab_type": "text"
      },
      "source": [
        "<a href=\"https://colab.research.google.com/github/yujungha/Data_Analysis/blob/main/Kakao_Log_Analysis.ipynb\" target=\"_parent\"><img src=\"https://colab.research.google.com/assets/colab-badge.svg\" alt=\"Open In Colab\"/></a>"
      ]
    },
    {
      "cell_type": "code",
      "metadata": {
        "id": "69JoKxUnkq5g"
      },
      "source": [
        "import pandas as pd\n",
        "import numpy as np\n",
        "import matplotlib.pyplot as plt\n",
        "import re"
      ],
      "execution_count": 151,
      "outputs": []
    },
    {
      "cell_type": "code",
      "metadata": {
        "id": "Ai-N8icQlBKy"
      },
      "source": [
        "def dateformat(y=0,m=0,d=0,h=0,mm=0,s=0):\n",
        "    return \"%d-%02d-%02d %02d:%02d:%02d\"%(y,m,d,h,mm,s)"
      ],
      "execution_count": 152,
      "outputs": []
    },
    {
      "cell_type": "code",
      "metadata": {
        "id": "h2Sr8ia0z8tg"
      },
      "source": [
        "f = open('Talk_2021.4.29 21_54-1.txt', mode='r', encoding='utf-8')\n",
        "\n",
        "file_name = f.readline()\n",
        "save_date_re = re.compile('저장한 날짜 : ([0-9]{4})\\. ([0-9]{1,2})\\. ([0-9]{1,2})\\. ([0-9]{2}):([0-9]{2})')\n",
        "m = save_date_re.match(f.readline())\n",
        "save_date = dateformat(int(m[1]), int(m[2]), int(m[3]), int(m[4]), int(m[5]))\n",
        "\n",
        "f.readline() # 공백 제거\n",
        "f.readline() # 공백 제거\n",
        "f.readline() # 공백 제거\n",
        "\n",
        "history = []\n",
        "histline = ''\n",
        "date = None\n",
        "\n",
        "date_re = re.compile('([0-9]{4})년 ([0-9]{1,2})월 ([0-9]{1,2})일 ((월|화|수|목|금|토|일)요일)')\n",
        "invite_re = re.compile('([0-9]{4})\\. ([0-9]{1,2})\\. ([0-9]{1,2})\\. ([0-9]{2}):([0-9]{2}): ((.+)님이 .+ 초대했습니다.)')\n",
        "exit_re = re.compile('([0-9]{4})\\. ([0-9]{1,2})\\. ([0-9]{1,2})\\. ([0-9]{2}):([0-9]{2}): ((.+)님이 나갔습니다.)')\n",
        "chat_re = re.compile('([0-9]{4})\\. ([0-9]{1,2})\\. ([0-9]{1,2})\\. ([0-9]{2}):([0-9]{2}), (.+) : (.+)')\n",
        "\n",
        "chat_temp = ''\n",
        "\n",
        "i=0\n",
        "while True:\n",
        "  line = f.readline()\n",
        "  if not line:\n",
        "    break\n",
        "  # print(line, end='')\n",
        " \n",
        "  # chat\n",
        "  m = chat_re.match(line)\n",
        "  if m:\n",
        "    # print(line, end='')\n",
        "    date = dateformat(int(m[1]), int(m[2]), int(m[3]), int(m[4]), int(m[5]))\n",
        "    user = m[6]\n",
        "    content = m[7]\n",
        "    history.append([date, user, content])\n",
        "    continue\n",
        "\n",
        "  # date\n",
        "  m = date_re.match(line)\n",
        "  if m:\n",
        "    date = dateformat(int(m[1]), int(m[2]), int(m[3]))\n",
        "    # print(line, end='')\n",
        "    continue\n",
        "\n",
        "  # invite\n",
        "  m = invite_re.match(line)\n",
        "  if m:\n",
        "    date = dateformat(int(m[1]), int(m[2]), int(m[3]), int(m[4]), int(m[5]))\n",
        "    user = m[7]\n",
        "    content = m[6]\n",
        "    history.append([date, user, content])\n",
        "    continue\n",
        "# history\n",
        "  # \\n chat\n",
        "  history[-1][2] += line\n",
        "df = pd.DataFrame(history, columns=['Date', 'User', 'Message'])\n",
        "df"
      ],
      "execution_count": null,
      "outputs": []
    },
    {
      "cell_type": "code",
      "metadata": {
        "colab": {
          "base_uri": "https://localhost:8080/"
        },
        "id": "hZNJCLy_vP7l",
        "outputId": "0e989a64-a7d2-46f4-d97f-e74961886fbd"
      },
      "source": [
        "df.info()"
      ],
      "execution_count": 154,
      "outputs": [
        {
          "output_type": "stream",
          "text": [
            "<class 'pandas.core.frame.DataFrame'>\n",
            "RangeIndex: 4716 entries, 0 to 4715\n",
            "Data columns (total 3 columns):\n",
            " #   Column   Non-Null Count  Dtype \n",
            "---  ------   --------------  ----- \n",
            " 0   Date     4716 non-null   object\n",
            " 1   User     4716 non-null   object\n",
            " 2   Message  4716 non-null   object\n",
            "dtypes: object(3)\n",
            "memory usage: 110.7+ KB\n"
          ],
          "name": "stdout"
        }
      ]
    },
    {
      "cell_type": "code",
      "metadata": {
        "id": "tSv9Fdq0g69p"
      },
      "source": [
        "df2 =  df[False == df.duplicated('User')]\n",
        "df2"
      ],
      "execution_count": null,
      "outputs": []
    },
    {
      "cell_type": "markdown",
      "metadata": {
        "id": "FYF2MKnVAysO"
      },
      "source": [
        "활발한 시간대"
      ]
    },
    {
      "cell_type": "code",
      "metadata": {
        "id": "mUs1ic6ZGH73"
      },
      "source": [
        "def func(x):\n",
        "  date = x.split(' ')\n",
        "  time = date[1].split(':')[0]\n",
        "  return int(time)"
      ],
      "execution_count": 156,
      "outputs": []
    },
    {
      "cell_type": "code",
      "metadata": {
        "id": "0yQddrb3HUWi"
      },
      "source": [
        "time = df['Date'].apply(func).values\n",
        "num = np.zeros(24)\n",
        "for i in range(len(time)):\n",
        "  num[time[i] - 1] += 1\n",
        "time, num"
      ],
      "execution_count": null,
      "outputs": []
    },
    {
      "cell_type": "code",
      "metadata": {
        "id": "SybaSnofH0OF"
      },
      "source": [
        "plt.plot(range(1, 25), num)\n",
        "plt.show()"
      ],
      "execution_count": null,
      "outputs": []
    },
    {
      "cell_type": "code",
      "metadata": {
        "colab": {
          "base_uri": "https://localhost:8080/"
        },
        "id": "mgZ0LBE4F0YK",
        "outputId": "7a0ef2f1-4917-4de6-b02b-bdd04c29e82b"
      },
      "source": [
        "names = df2.iloc[:3, :]['User'].values\n",
        "names"
      ],
      "execution_count": 182,
      "outputs": [
        {
          "output_type": "execute_result",
          "data": {
            "text/plain": [
              "array(['19 김은하', '유정하', '누리고라스'], dtype=object)"
            ]
          },
          "metadata": {
            "tags": []
          },
          "execution_count": 182
        }
      ]
    },
    {
      "cell_type": "code",
      "metadata": {
        "id": "jVUuvUQu-7NE"
      },
      "source": [
        "def active_time(name):\n",
        "  name_df = df[df['User'] == name]\n",
        "  time = name_df['Date'].apply(func)\n",
        "  num = np.zeros(24)\n",
        "  t = time.values\n",
        "\n",
        "  for i in range(len(t)):\n",
        "    num[t[i] - 1] += 1\n",
        "\n",
        "  # plt.title(name)\n",
        "  plt.plot(range(1, 25), num)\n",
        "  plt.show()\n",
        "  return"
      ],
      "execution_count": 195,
      "outputs": []
    },
    {
      "cell_type": "code",
      "metadata": {
        "id": "sHshhqQHyJw9"
      },
      "source": [
        "!sudo apt-get install -y fonts-nanum\n",
        "!sudo fc-cache -fv\n",
        "!rm ~/.cache/matplotlib -rf\n",
        "plt.rc('font', family='NanumBarunGothic')"
      ],
      "execution_count": null,
      "outputs": []
    },
    {
      "cell_type": "code",
      "metadata": {
        "id": "ypsb4dVcKU-w"
      },
      "source": [
        "for i in range(len(names)):\n",
        "  print(active_time(names[i]))"
      ],
      "execution_count": null,
      "outputs": []
    },
    {
      "cell_type": "markdown",
      "metadata": {
        "id": "uDAkx1WMKsok"
      },
      "source": [
        "이름 언급 횟수"
      ]
    },
    {
      "cell_type": "code",
      "metadata": {
        "id": "hoSrYkeiL4Nd"
      },
      "source": [
        "def mention(name):\n",
        "  return len(df[df['Message'].str.contains(name)])"
      ],
      "execution_count": 179,
      "outputs": []
    },
    {
      "cell_type": "code",
      "metadata": {
        "id": "HZ6gweB1Pq4q"
      },
      "source": [
        "!sudo apt-get install -y fonts-nanum\n",
        "!sudo fc-cache -fv\n",
        "!rm ~/.cache/matplotlib -rf\n",
        "plt.rc('font', family='NanumBarunGothic')"
      ],
      "execution_count": null,
      "outputs": []
    },
    {
      "cell_type": "code",
      "metadata": {
        "id": "evDjN6VCM_jw"
      },
      "source": [
        "new_names = ['은하', '정하', '누리']\n",
        "num = []\n",
        "for i in range(len(new_names)):\n",
        "  num.append(mention(new_names[i]))\n",
        "\n",
        "plt.bar(new_names, num)\n",
        "# plt.pie(num, labels=new_names, autopct='%.1f%%')\n",
        "plt.show()"
      ],
      "execution_count": null,
      "outputs": []
    },
    {
      "cell_type": "markdown",
      "metadata": {
        "id": "Fy2MoMWES2UC"
      },
      "source": [
        "대화해보기"
      ]
    },
    {
      "cell_type": "code",
      "metadata": {
        "id": "0M-fbgnySrUo"
      },
      "source": [
        "a = df['Message'].values\n",
        "b = []\n",
        "for i in range(len(a) - 1):\n",
        "  b.append([a[i], a[i + 1]])\n",
        "b"
      ],
      "execution_count": null,
      "outputs": []
    },
    {
      "cell_type": "code",
      "metadata": {
        "id": "wGNEeI1rSvKb"
      },
      "source": [
        "!pip install git+https://github.com/ssut/py-hanspell.git"
      ],
      "execution_count": null,
      "outputs": []
    },
    {
      "cell_type": "code",
      "metadata": {
        "id": "SHaS0sx64t2b"
      },
      "source": [
        "from hanspell import spell_checker\n",
        "\n",
        "a = np.array(df[['User', 'Message']].values)\n",
        "# a = [['19 김은하', '19 김은하님이 누리고라스님과 유정하님을 초대했습니다.'],\n",
        "#     ['19 김은하', '애들아'],\n",
        "#     ['19 김은하', '조이름생각해바']]\n",
        "i = 0\n",
        "while i != len(a)-1: # 같은 사람이 연속으로 카톡을 보냈을 경우 한 문장으로 만들어줌\n",
        "  print('%d / %d'%(i, len(a)))\n",
        "  if a[i][0] == a[i+1][0]:\n",
        "    a[i][1] += ' ' + a[i+1][1]\n",
        "    a = np.delete(a, i+1, 0)\n",
        "  else:\n",
        "    a[i][1] = spell_checker.check(a[i][1]).checked\n",
        "    i += 1"
      ],
      "execution_count": null,
      "outputs": []
    },
    {
      "cell_type": "code",
      "metadata": {
        "id": "lj2oleWBSzvB"
      },
      "source": [
        "from hanspell import spell_checker\n",
        "\n",
        "a = np.array(df[['User', 'Message']].values)\n",
        "# a = [['19 김은하', '19 김은하님이 누리고라스님과 유정하님을 초대했습니다.'],\n",
        "#     ['19 김은하', '애들아'],\n",
        "#     ['19 김은하', '조이름생각해바']]\n",
        "i = 0\n",
        "while i != len(a) - 1: # 같은 사람이 연속으로 카톡을 보냈을 경우 한 문장으로 만들어줌\n",
        "  print('%d / %d'%(i, len(a)))\n",
        "  if a[i][0] == a[i + 1][0]:\n",
        "    a[i][1] += ' ' + a[i + 1][1]\n",
        "    a = np.delete(a, i + 1, 0)\n",
        "  else:\n",
        "    a[i][1] = spell_checker.check(a[i][1]).checked\n",
        "    i += 1\n",
        "\n",
        "a = a.T[1]\n",
        "\n",
        "b = []\n",
        "for i in range(len(a) - 1):\n",
        "  b.append([a[i], a[i + 1]])\n",
        "b"
      ],
      "execution_count": null,
      "outputs": []
    },
    {
      "cell_type": "code",
      "metadata": {
        "id": "oBG77rvBS-16"
      },
      "source": [
        "import random\n",
        "\n",
        "while True:\n",
        "  Q = input(\"질문 : \")\n",
        "  l1 = []\n",
        "  l2 = []\n",
        "  l3 = []\n",
        "\n",
        "  for i in range(len(b)):\n",
        "    if Q == b[i][0]: # 질문과 텍스트 완벽 일치\n",
        "      # print('[완벽일치]', b[i][0])\n",
        "      l1.append(b[i][1])\n",
        "      \n",
        "    elif b[i][0].find(Q) != -1: # 텍스트에 질문이 포함\n",
        "      # print('[포함]',b[i][0])\n",
        "      l2.append(b[i][1])\n",
        "  \n",
        "    else: # [포함-2] 채팅\n",
        "      n = 0\n",
        "      for q in Q.split(' '):\n",
        "        if b[i][0].find(q) != -1:\n",
        "          n += 1\n",
        "      if n > 0:\n",
        "        # print('[포함-%d]'%n,b[i][0])\n",
        "        l3.append(b[i][1])\n",
        "\n",
        "  if len(l1) != 0:\n",
        "    print('답변 :',random.choice(l1))\n",
        "  elif len(l2) != 0:\n",
        "    print('답변 :',random.choice(l2))\n",
        "  elif len(l3) != 0:\n",
        "    print('답변 :',random.choice(l3))\n",
        "  else:\n",
        "    print('답변 : 맞아맞아')\n",
        "  print('\\n=================================================\\n')"
      ],
      "execution_count": null,
      "outputs": []
    }
  ]
}