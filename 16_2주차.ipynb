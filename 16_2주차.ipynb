{
  "nbformat": 4,
  "nbformat_minor": 0,
  "metadata": {
    "colab": {
      "name": "16-2주차.ipynb",
      "provenance": [],
      "collapsed_sections": [],
      "authorship_tag": "ABX9TyO08TNOSmZSRdXrNpQ8PkJS",
      "include_colab_link": true
    },
    "kernelspec": {
      "name": "python3",
      "display_name": "Python 3"
    },
    "language_info": {
      "name": "python"
    }
  },
  "cells": [
    {
      "cell_type": "markdown",
      "metadata": {
        "id": "view-in-github",
        "colab_type": "text"
      },
      "source": [
        "<a href=\"https://colab.research.google.com/github/yujungha/Data_Analysis/blob/main/16_2%EC%A3%BC%EC%B0%A8.ipynb\" target=\"_parent\"><img src=\"https://colab.research.google.com/assets/colab-badge.svg\" alt=\"Open In Colab\"/></a>"
      ]
    },
    {
      "cell_type": "code",
      "metadata": {
        "id": "571wkkl2PzzF"
      },
      "source": [
        "import pandas as pd\n",
        "import numpy as np\n",
        "import matplotlib.pyplot as plt\n",
        "import re"
      ],
      "execution_count": null,
      "outputs": []
    },
    {
      "cell_type": "code",
      "metadata": {
        "id": "Nz-fkmE1P4fd"
      },
      "source": [
        "def dateformat(y=0,m=0,d=0,h=0,mm=0,s=0):\n",
        "    return \"%d-%02d-%02d %02d:%02d:%02d\"%(y,m,d,h,mm,s)"
      ],
      "execution_count": null,
      "outputs": []
    },
    {
      "cell_type": "code",
      "metadata": {
        "id": "nG8gEV5RP6ai"
      },
      "source": [
        "# txt인 경우 (iphone)\n",
        "f = open('Talk_2021.4.29 21_54-1.txt', mode='r', encoding='utf-8')\n",
        "\n",
        "file_name = f.readline()\n",
        "save_date_re = re.compile('저장한 날짜 : ([0-9]{4})\\. ([0-9]{1,2})\\. ([0-9]{1,2})\\. ([0-9]{2}):([0-9]{2})')\n",
        "m = save_date_re.match(f.readline())\n",
        "save_date = dateformat(int(m[1]), int(m[2]), int(m[3]), int(m[4]), int(m[5]))\n",
        "\n",
        "f.readline() # 공백 제거\n",
        "f.readline() # 공백 제거\n",
        "f.readline() # 공백 제거\n",
        "\n",
        "history = []\n",
        "histline = ''\n",
        "date = None\n",
        "\n",
        "date_re = re.compile('([0-9]{4})년 ([0-9]{1,2})월 ([0-9]{1,2})일 ((월|화|수|목|금|토|일)요일)')\n",
        "invite_re = re.compile('([0-9]{4})\\. ([0-9]{1,2})\\. ([0-9]{1,2})\\. ([0-9]{2}):([0-9]{2}): ((.+)님이 .+ 초대했습니다.)')\n",
        "exit_re = re.compile('([0-9]{4})\\. ([0-9]{1,2})\\. ([0-9]{1,2})\\. ([0-9]{2}):([0-9]{2}): ((.+)님이 나갔습니다.)')\n",
        "chat_re = re.compile('([0-9]{4})\\. ([0-9]{1,2})\\. ([0-9]{1,2})\\. ([0-9]{2}):([0-9]{2}), (.+) : (.+)')\n",
        "\n",
        "chat_temp = ''\n",
        "\n",
        "i=0\n",
        "while True:\n",
        "    line = f.readline()\n",
        "    if not line: \n",
        "        break\n",
        "    # print(line, end='')\n",
        "\n",
        "    # chat\n",
        "    m = chat_re.match(line)\n",
        "    if m:\n",
        "        date = dateformat(int(m[1]), int(m[2]), int(m[3]), int(m[4]), int(m[5]))\n",
        "        user = m[6]\n",
        "        content = m[7]\n",
        "        history.append([date, user, content])\n",
        "        continue\n",
        "    # date\n",
        "    m = date_re.match(line)\n",
        "    if m:\n",
        "        date = dateformat(int(m[1]), int(m[2]), int(m[3]))\n",
        "        # print('aaaaaaaaaaaa' ,history[-1][2])\n",
        "        continue\n",
        "    # invite\n",
        "    m = invite_re.match(line)\n",
        "    if m:\n",
        "        date = dateformat(int(m[1]), int(m[2]), int(m[3]), int(m[4]), int(m[5]))\n",
        "        user = m[7]\n",
        "        content = m[6]\n",
        "        history.append([date, user, content])\n",
        "        continue\n",
        "    # exit\n",
        "    m = exit_re.match(line)\n",
        "    if m:\n",
        "        date = dateformat(int(m[1]), int(m[2]), int(m[3]), int(m[4]), int(m[5]))\n",
        "        user = m[7]\n",
        "        content = m[6]\n",
        "        history.append([date, user, content])\n",
        "        continue\n",
        "    # \\n chat\n",
        "    history[-1][2] += line\n",
        "df = pd.DataFrame(history, columns=['Date', 'User', 'Message'])"
      ],
      "execution_count": null,
      "outputs": []
    },
    {
      "cell_type": "code",
      "metadata": {
        "id": "ICJ9nEkdP8HN"
      },
      "source": [
        "df"
      ],
      "execution_count": null,
      "outputs": []
    },
    {
      "cell_type": "code",
      "metadata": {
        "id": "9Pd8hITBQA0W"
      },
      "source": [
        "a = df['Message'].values\n",
        "b = []\n",
        "for i in range(len(a) - 1):\n",
        "  b.append([a[i], a[i + 1]])\n",
        "b"
      ],
      "execution_count": null,
      "outputs": []
    },
    {
      "cell_type": "code",
      "metadata": {
        "colab": {
          "base_uri": "https://localhost:8080/"
        },
        "id": "NK-HZXo_XSed",
        "outputId": "40f4b4fb-14e5-4797-ce2f-98cfabdde52d"
      },
      "source": [
        "!pip install git+https://github.com/ssut/py-hanspell.git"
      ],
      "execution_count": null,
      "outputs": [
        {
          "output_type": "stream",
          "text": [
            "Collecting git+https://github.com/ssut/py-hanspell.git\n",
            "  Cloning https://github.com/ssut/py-hanspell.git to /tmp/pip-req-build-4ylthykr\n",
            "  Running command git clone -q https://github.com/ssut/py-hanspell.git /tmp/pip-req-build-4ylthykr\n",
            "Requirement already satisfied: requests in /usr/local/lib/python3.7/dist-packages (from py-hanspell==1.1) (2.23.0)\n",
            "Requirement already satisfied: chardet<4,>=3.0.2 in /usr/local/lib/python3.7/dist-packages (from requests->py-hanspell==1.1) (3.0.4)\n",
            "Requirement already satisfied: idna<3,>=2.5 in /usr/local/lib/python3.7/dist-packages (from requests->py-hanspell==1.1) (2.10)\n",
            "Requirement already satisfied: urllib3!=1.25.0,!=1.25.1,<1.26,>=1.21.1 in /usr/local/lib/python3.7/dist-packages (from requests->py-hanspell==1.1) (1.24.3)\n",
            "Requirement already satisfied: certifi>=2017.4.17 in /usr/local/lib/python3.7/dist-packages (from requests->py-hanspell==1.1) (2020.12.5)\n",
            "Building wheels for collected packages: py-hanspell\n",
            "  Building wheel for py-hanspell (setup.py) ... \u001b[?25l\u001b[?25hdone\n",
            "  Created wheel for py-hanspell: filename=py_hanspell-1.1-cp37-none-any.whl size=4854 sha256=5ec9e4ebae448bbe3d5f3a373cfac90de6de964fd2bb41b6c8186c37ec4bf57f\n",
            "  Stored in directory: /tmp/pip-ephem-wheel-cache-tkuet8ag/wheels/0a/25/d1/e5e96476dbb1c318cc26c992dd493394fe42b0c204b3e65588\n",
            "Successfully built py-hanspell\n",
            "Installing collected packages: py-hanspell\n",
            "Successfully installed py-hanspell-1.1\n"
          ],
          "name": "stdout"
        }
      ]
    },
    {
      "cell_type": "code",
      "metadata": {
        "id": "vR7OXFBCXf_b"
      },
      "source": [
        "from hanspell import spell_checker\n",
        "a = np.array(df[['User', 'Message']].values)\n",
        "# a = [['19 김은하', '19 김은하님이 누리고라스님과 유정하님을 초대했습니다.'],\n",
        "#     ['19 김은하', '애들아'],\n",
        "#     ['19 김은하', '조이름생각해바']]\n",
        "i = 0\n",
        "while i != len(a)-1:\n",
        "  print('%d / %d'%(i, len(a)))\n",
        "  if a[i][0] == a[i+1][0]:\n",
        "    a[i][1] += ' '+a[i+1][1]\n",
        "    a = np.delete(a, i+1, 0)\n",
        "  else:\n",
        "    a[i][1] = spell_checker.check(a[i][1]).checked\n",
        "    i += 1\n",
        "\n",
        "a = a.T[1]\n",
        "\n",
        "b = []\n",
        "for i in range(len(a) - 1):\n",
        "  b.append([a[i], a[i + 1]])\n",
        "b"
      ],
      "execution_count": null,
      "outputs": []
    },
    {
      "cell_type": "code",
      "metadata": {
        "id": "ZmwU7c2lXnBn"
      },
      "source": [
        "import random\n",
        "\n",
        "while True:\n",
        "  Q = input(\"질문 : \")\n",
        "  l1 = []\n",
        "  l2 = []\n",
        "  l3 = []\n",
        "\n",
        "  for i in range(len(b)):\n",
        "    if Q == b[i][0]:\n",
        "      # print('[완벽일치]', b[i][0])\n",
        "      l1.append(b[i][1])\n",
        "    elif b[i][0].find(Q) != -1:\n",
        "      # print('[포함]',b[i][0])\n",
        "      l2.append(b[i][1])\n",
        "    # [포함-2] 채팅\n",
        "    else:\n",
        "      n = 0\n",
        "      for q in Q.split(' '):\n",
        "        if b[i][0].find(q) != -1:\n",
        "          n += 1\n",
        "      if n > 0:\n",
        "        # print('[포함-%d]'%n,b[i][0])\n",
        "        l3.append(b[i][1])\n",
        "\n",
        "  if len(l1) != 0:\n",
        "    print('답변 :',random.choice(l1))\n",
        "  elif len(l2) != 0:\n",
        "    print('답변 :',random.choice(l2))\n",
        "  elif len(l3) != 0:\n",
        "    print('답변 :',random.choice(l3))\n",
        "  else:\n",
        "    print('답변 : 맞아맞아')\n",
        "  print('\\n=================================================\\n')"
      ],
      "execution_count": null,
      "outputs": []
    }
  ]
}