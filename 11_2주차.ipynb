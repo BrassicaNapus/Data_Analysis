{
  "nbformat": 4,
  "nbformat_minor": 0,
  "metadata": {
    "colab": {
      "name": "11-2주차.ipynb",
      "provenance": [],
      "authorship_tag": "ABX9TyN9RpMjutDUCpRbJoxiW6vU",
      "include_colab_link": true
    },
    "kernelspec": {
      "name": "python3",
      "display_name": "Python 3"
    },
    "language_info": {
      "name": "python"
    }
  },
  "cells": [
    {
      "cell_type": "markdown",
      "metadata": {
        "id": "view-in-github",
        "colab_type": "text"
      },
      "source": [
        "<a href=\"https://colab.research.google.com/github/yujungha/Data_Analysis/blob/main/11_2%EC%A3%BC%EC%B0%A8.ipynb\" target=\"_parent\"><img src=\"https://colab.research.google.com/assets/colab-badge.svg\" alt=\"Open In Colab\"/></a>"
      ]
    },
    {
      "cell_type": "code",
      "metadata": {
        "id": "yqMgDAtoQ4ao"
      },
      "source": [
        "import pandas as pd\n",
        "import numpy as np\n",
        "import matplotlib.pyplot as pltv"
      ],
      "execution_count": 1,
      "outputs": []
    },
    {
      "cell_type": "code",
      "metadata": {
        "id": "FceBKqKYRwdK"
      },
      "source": [
        "!pip install konlpy"
      ],
      "execution_count": null,
      "outputs": []
    },
    {
      "cell_type": "code",
      "metadata": {
        "id": "1HWtiBgdRyYv"
      },
      "source": [
        "f = open('임다빈.txt', mode='rt', encoding='utf-8')\n",
        "\n",
        "date = ''\n",
        "arr = []\n",
        "for line in f:\n",
        "  if line[0:5] == '-----':\n",
        "    # print(line.split('---------------'))\n",
        "    date = line.split('---------------')[1].strip() # strip 날짜 왼쪽 오른쪽에 있는 공백 제거\n",
        "  elif line[0] == '[':\n",
        "    name = line[1:line.find(']')]\n",
        "    time = line[line.find(']') + 3:]\n",
        "    message = time[time.find(']') + 2:-1]\n",
        "    time = time[:time.find(']')]\n",
        "    \n",
        "    arr.append([name, time, message])\n",
        "\n",
        "df = pd.DataFrame(arr, columns=['name', 'time', 'message'])\n",
        "\n",
        "names = df[df['name'].duplicated() != True]['name'].values\n",
        "print(\"채팅방에 있는 사람\")\n",
        "for i in range(len(names)):\n",
        "  print(names[i])\n",
        "print(names)\n",
        "new_names = ['유정하', '임다빈', '누구?']\n",
        "for i in range(len(names)):\n",
        "  df['name'] = df['name'].str.replace(names[i], new_names[i], regex=False)\n",
        "df"
      ],
      "execution_count": null,
      "outputs": []
    },
    {
      "cell_type": "code",
      "metadata": {
        "id": "Hy1rWQ5HWJwk"
      },
      "source": [
        " from konlpy.tag import Okt\n",
        " \n",
        " okt = Okt()"
      ],
      "execution_count": 12,
      "outputs": []
    },
    {
      "cell_type": "code",
      "metadata": {
        "id": "idR2rkfMWNk1"
      },
      "source": [
        "text = ' '.join(df['message'].values)"
      ],
      "execution_count": 13,
      "outputs": []
    },
    {
      "cell_type": "code",
      "metadata": {
        "id": "WieJ4SVTWPIR"
      },
      "source": [
        "pos_text = okt.pos(text)"
      ],
      "execution_count": 14,
      "outputs": []
    },
    {
      "cell_type": "code",
      "metadata": {
        "id": "MMlW8s1yWQw_"
      },
      "source": [
        "pos_df = pd.DataFrame(pos_text)\n",
        "adj_text = ' '.join(pos_df[(pos_df[1] == 'Adjective') & (pos_df[0].str.len() > 1)][0].values)"
      ],
      "execution_count": 17,
      "outputs": []
    },
    {
      "cell_type": "code",
      "metadata": {
        "id": "Dhxu-KIPWSj_"
      },
      "source": [
        "from collections import Counter\n",
        "c = Counter(adj_text.split(' '))\n",
        "c.most_common(100)"
      ],
      "execution_count": null,
      "outputs": []
    }
  ]
}